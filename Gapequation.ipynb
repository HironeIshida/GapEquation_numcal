{
 "cells": [
  {
   "cell_type": "code",
   "execution_count": 35,
   "metadata": {},
   "outputs": [],
   "source": [
    "using Plots\n",
    "using FastGaussQuadrature\n",
    "using LaTeXStrings\n",
    "using LinearAlgebra"
   ]
  },
  {
   "cell_type": "code",
   "execution_count": 36,
   "metadata": {},
   "outputs": [
    {
     "data": {
      "text/plain": [
       "transform (generic function with 1 method)"
      ]
     },
     "metadata": {},
     "output_type": "display_data"
    }
   ],
   "source": [
    "#ガウスルジャンドルの積分区間変更\n",
    "\n",
    "function transform(deg::Int64, a::Float64, b::Float64)\n",
    "    @assert a < b\n",
    "    x, α = gausslegendre(deg)\n",
    "    dx = b-a\n",
    "\n",
    "    new_x = 0.5 .* dx .* x .+ (0.5*(a+b))\n",
    "    new_α = 0.5 .* dx .* α\n",
    "    \n",
    "    return new_x, new_α\n",
    "end"
   ]
  },
  {
   "cell_type": "markdown",
   "metadata": {},
   "source": [
    "超伝導のペアポテンシャル$\\Delta$に対する次の方程式(ギャップ方程式)\n",
    "$$\n",
    "\\Delta = VN_0\\int_{0}^{\\hbar\\omega_D}d\\varepsilon \\dfrac{\\Delta}{\\sqrt{\\varepsilon^2 + \\Delta^2}}\\tanh\\left(\\dfrac{\\sqrt{\\varepsilon^2 + \\Delta^2}}{2k_{\\mathrm{B}}T}\\right)\n",
    "$$\n",
    "を解くぜ！！"
   ]
  },
  {
   "cell_type": "code",
   "execution_count": 37,
   "metadata": {},
   "outputs": [
    {
     "data": {
      "text/plain": [
       "Gapright (generic function with 1 method)"
      ]
     },
     "metadata": {},
     "output_type": "display_data"
    }
   ],
   "source": [
    "#被積分関数\n",
    "f(ε, Δ, VN0, hw, kT) = (VN0 * Δ * tanh( sqrt(ε^2 + Δ^2)/(2*kT) )) / sqrt(ε^2 + Δ^2) \n",
    "\n",
    "#T=0のギャップ\n",
    "ΔT0(hw, VN0) = 2 * hw * exp(-1/VN0)\n",
    "\n",
    "#右辺を計算する関数\n",
    "function Gapright(f, Δ, VN0, hw, kT, deg::Int64)\n",
    "    ε, a = transform(deg, 0.0, hw)\n",
    "    integral = dot(a, f.(ε, Δ, VN0, hw, kT))\n",
    "    return integral\n",
    "end"
   ]
  },
  {
   "cell_type": "code",
   "execution_count": 38,
   "metadata": {},
   "outputs": [],
   "source": [
    "#とりあえずの設定(後で規格化するからなんでもよい？)\n",
    "VN0 = 0.1\n",
    "hw = 0.1\n",
    "deg = 1000\n",
    "N = 100\n",
    "\n",
    "#転移温度理論値\n",
    "kTc_analysis = 1.13 * hw * exp(-1/VN0)\n",
    "\n",
    "#温度プロット範囲\n",
    "kTs = range(1e-20, 1.2 * kTc_analysis, N)\n",
    "\n",
    "#T=0のでペアポテンシャル\n",
    "Δ0 = 2*hw*exp(-1/VN0)\n",
    "\n",
    "ans = []\n",
    ";"
   ]
  },
  {
   "cell_type": "code",
   "execution_count": 39,
   "metadata": {},
   "outputs": [],
   "source": [
    "#被積分関数のプロット\n",
    "\n",
    "εs = range(0.0, 1000, length = N)\n",
    "\n",
    "plot(εs, f.(εs, 1.0, VN0, hw, kTs[90]))\n",
    ";"
   ]
  },
  {
   "cell_type": "code",
   "execution_count": 40,
   "metadata": {},
   "outputs": [],
   "source": [
    "#各温度で自己無撞着計算\n",
    "\n",
    "for kT in kTs\n",
    "    Δ0 = 1.0\n",
    "    for i in 1:10000\n",
    "        Δ1 = Gapright(f, Δ0, VN0, hw, kT, deg)\n",
    "        if abs(Δ1-Δ0) < 1e-20\n",
    "            break\n",
    "        end\n",
    "        Δ0 = Δ1\n",
    "    end\n",
    "    ans = push!(ans, Δ0)\n",
    "end"
   ]
  },
  {
   "cell_type": "code",
   "execution_count": null,
   "metadata": {},
   "outputs": [],
   "source": [
    "#T=0とT=Tc付近での振る舞い(理論)\n",
    "Δ0 = ΔT0(hw, VN0)\n",
    "\n",
    "ΔTcs = []\n",
    "for i in 1:N\n",
    "    if kTc_analysis - kTs[i] > 0\n",
    "        push!(ΔTcs, Δ0*tanh(1.74*sqrt((kTc_analysis-kTs[i])/(kTs[i]))))\n",
    "    else \n",
    "        push!(ΔTcs, 0.0)\n",
    "    end\n",
    "end\n",
    "\n",
    "\n",
    "#近似したTcで近似したもの(理論)\n",
    "f(T) = Δ0 * 1.74 * sqrt((kTc_analysis - T)/(T))\n",
    "ΔTcs_app = []\n",
    "for j in 1:N\n",
    "    if kTc_analysis - kTs[j] > 0\n",
    "        push!(ΔTcs_app, f(kTs[j]))\n",
    "    else\n",
    "        push!(ΔTcs_app, 0.0)\n",
    "    end\n",
    "end"
   ]
  },
  {
   "cell_type": "code",
   "execution_count": null,
   "metadata": {},
   "outputs": [],
   "source": [
    "#グラフの作成\n",
    "p = plot()\n",
    "\n",
    "#全区間近似式\n",
    "plot!(p, kTs/kTc_analysis, ΔTcs/Δ0,\n",
    "        label = L\"\\mathrm{analysis}\",\n",
    "        linecolor = :black,\n",
    "        linewidth = 2,)\n",
    "\n",
    "#Tc付近の近侍式\n",
    "plot!(p, kTs[Int64(0.6*N):N]/kTc_analysis, ΔTcs_app[Int64(0.6*N):N]/Δ0,\n",
    "        label = L\"\\mathrm{analysis}~(T \\simeq T_c)\",\n",
    "        linewidth = 2,\n",
    "        linecolor = :blue)\n",
    "\n",
    "#数値解析結果\n",
    "plot!(p, kTs[1:2:end]/kTc_analysis, ans[1:2:end]/Δ0,\n",
    "        title = L\"\\mathrm{Temperature~Dependence~of~Pair~Potential}\",\n",
    "        label = L\"\\mathrm{Num}\",\n",
    "        xlabel = L\"T/T_c\",\n",
    "        ylabel = L\"\\Delta/\\Delta_0\",\n",
    "        markershape = :circle,\n",
    "        linewidth = 0,\n",
    "        background_color_legend\t = :white,\n",
    "        markercolor = :red,\n",
    "        linecolor = :red)\n",
    "\n",
    "savefig(\"Gap_plot.pdf\")\n",
    "\n",
    "p"
   ]
  }
 ],
 "metadata": {
  "kernelspec": {
   "display_name": "Julia 1.8.1",
   "language": "julia",
   "name": "julia-1.8"
  },
  "language_info": {
   "file_extension": ".jl",
   "mimetype": "application/julia",
   "name": "julia",
   "version": "1.8.1"
  },
  "orig_nbformat": 4
 },
 "nbformat": 4,
 "nbformat_minor": 2
}
